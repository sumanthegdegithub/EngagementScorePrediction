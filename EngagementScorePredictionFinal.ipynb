{
  "nbformat": 4,
  "nbformat_minor": 0,
  "metadata": {
    "colab": {
      "name": "EngagementScorePredictionFinal.ipynb",
      "provenance": []
    },
    "kernelspec": {
      "name": "python3",
      "display_name": "Python 3"
    },
    "language_info": {
      "name": "python"
    }
  },
  "cells": [
    {
      "cell_type": "code",
      "execution_count": 1,
      "metadata": {
        "id": "6DXoCzo-Ekyp"
      },
      "outputs": [],
      "source": [
        "# Import all the libraries needed\n",
        "\n",
        "import pandas as pd\n",
        "import numpy as np\n",
        "import seaborn as sn\n",
        "import matplotlib.pyplot as plt\n",
        "import spacy\n",
        "from scipy.sparse import csr_matrix\n",
        "from sklearn.metrics.pairwise import cosine_similarity\n",
        "from tqdm import tqdm\n",
        "import lightgbm as lgb\n",
        "from sklearn.model_selection import train_test_split\n",
        "from sklearn.metrics import roc_auc_score, accuracy_score, r2_score\n",
        "import optuna\n",
        "import catboost\n",
        "from surprise import Reader, Dataset\n",
        "from surprise import SVDpp"
      ]
    },
    {
      "cell_type": "code",
      "source": [
        "#Read the datasets\n",
        "train = pd.read_csv('/content/drive/MyDrive/EngagementScorePrediction/train_0OECtn8.csv')\n",
        "test = pd.read_csv('/content/drive/MyDrive/EngagementScorePrediction/test_1zqHu22.csv')\n",
        "submission = pd.read_csv('/content/drive/MyDrive/EngagementScorePrediction/sample_submission_JPlpRcN.csv')"
      ],
      "metadata": {
        "id": "6J1Ml5W1FB8h"
      },
      "execution_count": 2,
      "outputs": []
    },
    {
      "cell_type": "code",
      "source": [
        "train.head()"
      ],
      "metadata": {
        "colab": {
          "base_uri": "https://localhost:8080/",
          "height": 267
        },
        "id": "1oUVx-WgFmVX",
        "outputId": "45f9eb35-18a3-42f0-8f62-00038169b4d6"
      },
      "execution_count": 3,
      "outputs": [
        {
          "output_type": "execute_result",
          "data": {
            "text/html": [
              "\n",
              "  <div id=\"df-037fb441-ea85-4ac6-bd47-64136dae161c\">\n",
              "    <div class=\"colab-df-container\">\n",
              "      <div>\n",
              "<style scoped>\n",
              "    .dataframe tbody tr th:only-of-type {\n",
              "        vertical-align: middle;\n",
              "    }\n",
              "\n",
              "    .dataframe tbody tr th {\n",
              "        vertical-align: top;\n",
              "    }\n",
              "\n",
              "    .dataframe thead th {\n",
              "        text-align: right;\n",
              "    }\n",
              "</style>\n",
              "<table border=\"1\" class=\"dataframe\">\n",
              "  <thead>\n",
              "    <tr style=\"text-align: right;\">\n",
              "      <th></th>\n",
              "      <th>row_id</th>\n",
              "      <th>user_id</th>\n",
              "      <th>category_id</th>\n",
              "      <th>video_id</th>\n",
              "      <th>age</th>\n",
              "      <th>gender</th>\n",
              "      <th>profession</th>\n",
              "      <th>followers</th>\n",
              "      <th>views</th>\n",
              "      <th>engagement_score</th>\n",
              "    </tr>\n",
              "  </thead>\n",
              "  <tbody>\n",
              "    <tr>\n",
              "      <th>0</th>\n",
              "      <td>1</td>\n",
              "      <td>19990</td>\n",
              "      <td>37</td>\n",
              "      <td>128</td>\n",
              "      <td>24</td>\n",
              "      <td>Male</td>\n",
              "      <td>Student</td>\n",
              "      <td>180</td>\n",
              "      <td>1000</td>\n",
              "      <td>4.33</td>\n",
              "    </tr>\n",
              "    <tr>\n",
              "      <th>1</th>\n",
              "      <td>2</td>\n",
              "      <td>5304</td>\n",
              "      <td>32</td>\n",
              "      <td>132</td>\n",
              "      <td>14</td>\n",
              "      <td>Female</td>\n",
              "      <td>Student</td>\n",
              "      <td>330</td>\n",
              "      <td>714</td>\n",
              "      <td>1.79</td>\n",
              "    </tr>\n",
              "    <tr>\n",
              "      <th>2</th>\n",
              "      <td>3</td>\n",
              "      <td>1840</td>\n",
              "      <td>12</td>\n",
              "      <td>24</td>\n",
              "      <td>19</td>\n",
              "      <td>Male</td>\n",
              "      <td>Student</td>\n",
              "      <td>180</td>\n",
              "      <td>138</td>\n",
              "      <td>4.35</td>\n",
              "    </tr>\n",
              "    <tr>\n",
              "      <th>3</th>\n",
              "      <td>4</td>\n",
              "      <td>12597</td>\n",
              "      <td>23</td>\n",
              "      <td>112</td>\n",
              "      <td>19</td>\n",
              "      <td>Male</td>\n",
              "      <td>Student</td>\n",
              "      <td>220</td>\n",
              "      <td>613</td>\n",
              "      <td>3.77</td>\n",
              "    </tr>\n",
              "    <tr>\n",
              "      <th>4</th>\n",
              "      <td>5</td>\n",
              "      <td>13626</td>\n",
              "      <td>23</td>\n",
              "      <td>112</td>\n",
              "      <td>27</td>\n",
              "      <td>Male</td>\n",
              "      <td>Working Professional</td>\n",
              "      <td>220</td>\n",
              "      <td>613</td>\n",
              "      <td>3.13</td>\n",
              "    </tr>\n",
              "  </tbody>\n",
              "</table>\n",
              "</div>\n",
              "      <button class=\"colab-df-convert\" onclick=\"convertToInteractive('df-037fb441-ea85-4ac6-bd47-64136dae161c')\"\n",
              "              title=\"Convert this dataframe to an interactive table.\"\n",
              "              style=\"display:none;\">\n",
              "        \n",
              "  <svg xmlns=\"http://www.w3.org/2000/svg\" height=\"24px\"viewBox=\"0 0 24 24\"\n",
              "       width=\"24px\">\n",
              "    <path d=\"M0 0h24v24H0V0z\" fill=\"none\"/>\n",
              "    <path d=\"M18.56 5.44l.94 2.06.94-2.06 2.06-.94-2.06-.94-.94-2.06-.94 2.06-2.06.94zm-11 1L8.5 8.5l.94-2.06 2.06-.94-2.06-.94L8.5 2.5l-.94 2.06-2.06.94zm10 10l.94 2.06.94-2.06 2.06-.94-2.06-.94-.94-2.06-.94 2.06-2.06.94z\"/><path d=\"M17.41 7.96l-1.37-1.37c-.4-.4-.92-.59-1.43-.59-.52 0-1.04.2-1.43.59L10.3 9.45l-7.72 7.72c-.78.78-.78 2.05 0 2.83L4 21.41c.39.39.9.59 1.41.59.51 0 1.02-.2 1.41-.59l7.78-7.78 2.81-2.81c.8-.78.8-2.07 0-2.86zM5.41 20L4 18.59l7.72-7.72 1.47 1.35L5.41 20z\"/>\n",
              "  </svg>\n",
              "      </button>\n",
              "      \n",
              "  <style>\n",
              "    .colab-df-container {\n",
              "      display:flex;\n",
              "      flex-wrap:wrap;\n",
              "      gap: 12px;\n",
              "    }\n",
              "\n",
              "    .colab-df-convert {\n",
              "      background-color: #E8F0FE;\n",
              "      border: none;\n",
              "      border-radius: 50%;\n",
              "      cursor: pointer;\n",
              "      display: none;\n",
              "      fill: #1967D2;\n",
              "      height: 32px;\n",
              "      padding: 0 0 0 0;\n",
              "      width: 32px;\n",
              "    }\n",
              "\n",
              "    .colab-df-convert:hover {\n",
              "      background-color: #E2EBFA;\n",
              "      box-shadow: 0px 1px 2px rgba(60, 64, 67, 0.3), 0px 1px 3px 1px rgba(60, 64, 67, 0.15);\n",
              "      fill: #174EA6;\n",
              "    }\n",
              "\n",
              "    [theme=dark] .colab-df-convert {\n",
              "      background-color: #3B4455;\n",
              "      fill: #D2E3FC;\n",
              "    }\n",
              "\n",
              "    [theme=dark] .colab-df-convert:hover {\n",
              "      background-color: #434B5C;\n",
              "      box-shadow: 0px 1px 3px 1px rgba(0, 0, 0, 0.15);\n",
              "      filter: drop-shadow(0px 1px 2px rgba(0, 0, 0, 0.3));\n",
              "      fill: #FFFFFF;\n",
              "    }\n",
              "  </style>\n",
              "\n",
              "      <script>\n",
              "        const buttonEl =\n",
              "          document.querySelector('#df-037fb441-ea85-4ac6-bd47-64136dae161c button.colab-df-convert');\n",
              "        buttonEl.style.display =\n",
              "          google.colab.kernel.accessAllowed ? 'block' : 'none';\n",
              "\n",
              "        async function convertToInteractive(key) {\n",
              "          const element = document.querySelector('#df-037fb441-ea85-4ac6-bd47-64136dae161c');\n",
              "          const dataTable =\n",
              "            await google.colab.kernel.invokeFunction('convertToInteractive',\n",
              "                                                     [key], {});\n",
              "          if (!dataTable) return;\n",
              "\n",
              "          const docLinkHtml = 'Like what you see? Visit the ' +\n",
              "            '<a target=\"_blank\" href=https://colab.research.google.com/notebooks/data_table.ipynb>data table notebook</a>'\n",
              "            + ' to learn more about interactive tables.';\n",
              "          element.innerHTML = '';\n",
              "          dataTable['output_type'] = 'display_data';\n",
              "          await google.colab.output.renderOutput(dataTable, element);\n",
              "          const docLink = document.createElement('div');\n",
              "          docLink.innerHTML = docLinkHtml;\n",
              "          element.appendChild(docLink);\n",
              "        }\n",
              "      </script>\n",
              "    </div>\n",
              "  </div>\n",
              "  "
            ],
            "text/plain": [
              "   row_id  user_id  category_id  ...  followers  views engagement_score\n",
              "0       1    19990           37  ...        180   1000             4.33\n",
              "1       2     5304           32  ...        330    714             1.79\n",
              "2       3     1840           12  ...        180    138             4.35\n",
              "3       4    12597           23  ...        220    613             3.77\n",
              "4       5    13626           23  ...        220    613             3.13\n",
              "\n",
              "[5 rows x 10 columns]"
            ]
          },
          "metadata": {},
          "execution_count": 3
        }
      ]
    },
    {
      "cell_type": "markdown",
      "source": [
        "##Quick data analysis"
      ],
      "metadata": {
        "id": "kFWjN8HeGCKu"
      }
    },
    {
      "cell_type": "code",
      "source": [
        "dup_bool = train.duplicated(['user_id','video_id','engagement_score'])\n",
        "dups = sum(dup_bool)\n",
        "print(\"There are {} duplicate rating entries in the data.\".format(dups))"
      ],
      "metadata": {
        "colab": {
          "base_uri": "https://localhost:8080/"
        },
        "id": "jWyd6gCUGAxd",
        "outputId": "8d295fcd-d676-4e90-cf4b-3c82c1750681"
      },
      "execution_count": 4,
      "outputs": [
        {
          "output_type": "stream",
          "name": "stdout",
          "text": [
            "There are 0 duplicate rating entries in the data.\n"
          ]
        }
      ]
    },
    {
      "cell_type": "code",
      "source": [
        "print('no of users in train data = {}'.format(len(train.user_id.unique())))"
      ],
      "metadata": {
        "colab": {
          "base_uri": "https://localhost:8080/"
        },
        "id": "uwZKaVt2GW1E",
        "outputId": "6264aac6-18cc-42d4-c24b-a8eabc7108bb"
      },
      "execution_count": 5,
      "outputs": [
        {
          "output_type": "stream",
          "name": "stdout",
          "text": [
            "no of users in train data = 27734\n"
          ]
        }
      ]
    },
    {
      "cell_type": "code",
      "source": [
        "print('no of users in test data = {}'.format(len(test.user_id.unique())))"
      ],
      "metadata": {
        "colab": {
          "base_uri": "https://localhost:8080/"
        },
        "id": "CNS1V3DGGYu7",
        "outputId": "a1505cc3-5ed2-425f-cbd6-ccdd76edb4fe"
      },
      "execution_count": 6,
      "outputs": [
        {
          "output_type": "stream",
          "name": "stdout",
          "text": [
            "no of users in test data = 10384\n"
          ]
        }
      ]
    },
    {
      "cell_type": "code",
      "source": [
        "print('no of video_id in train data = {}'.format(len(train.video_id.unique())))"
      ],
      "metadata": {
        "colab": {
          "base_uri": "https://localhost:8080/"
        },
        "id": "gCm0XiQXGaSE",
        "outputId": "596075bb-c664-4bcd-c328-030042cb8e93"
      },
      "execution_count": 7,
      "outputs": [
        {
          "output_type": "stream",
          "name": "stdout",
          "text": [
            "no of video_id in train data = 175\n"
          ]
        }
      ]
    },
    {
      "cell_type": "code",
      "source": [
        "print('no of video_id in test data = {}'.format(len(test.video_id.unique())))"
      ],
      "metadata": {
        "colab": {
          "base_uri": "https://localhost:8080/"
        },
        "id": "IhvsKR3dGcIr",
        "outputId": "50c20cee-7a1c-48b6-f8a8-b6654e5cde65"
      },
      "execution_count": 8,
      "outputs": [
        {
          "output_type": "stream",
          "name": "stdout",
          "text": [
            "no of video_id in test data = 128\n"
          ]
        }
      ]
    },
    {
      "cell_type": "code",
      "source": [
        "no_of_engaged_videos_per_user = train.groupby(by='user_id')['engagement_score'].count().sort_values(ascending=False)\n",
        "\n",
        "fig = plt.figure(figsize=plt.figaspect(.5))\n",
        "\n",
        "ax1 = plt.subplot(121)\n",
        "sn.kdeplot(no_of_engaged_videos_per_user, shade=True, ax=ax1)\n",
        "plt.xlabel('No of videos watched by user')\n",
        "plt.title(\"PDF\")\n",
        "\n",
        "ax2 = plt.subplot(122)\n",
        "sn.kdeplot(no_of_engaged_videos_per_user, shade=True, cumulative=True,ax=ax2)\n",
        "plt.xlabel('No of videos watched by user')\n",
        "plt.title('CDF')\n",
        "\n",
        "plt.show()"
      ],
      "metadata": {
        "colab": {
          "base_uri": "https://localhost:8080/",
          "height": 295
        },
        "id": "mhHOALbVGgtk",
        "outputId": "5f0fdd49-7d62-4c82-a2b6-611a32ba3fa7"
      },
      "execution_count": 9,
      "outputs": [
        {
          "output_type": "display_data",
          "data": {
            "image/png": "[encoded data removed]",
            "text/plain": [
              "<Figure size 576x288 with 2 Axes>"
            ]
          },
          "metadata": {
            "needs_background": "light"
          }
        }
      ]
    },
    {
      "cell_type": "markdown",
      "source": [
        "Most no of people have watched 3 videos (median)\n",
        "\n",
        "90% of the users watched less than 6 videos"
      ],
      "metadata": {
        "id": "Q-A05L4lGrqO"
      }
    },
    {
      "cell_type": "code",
      "source": [
        "fig = plt.figure(figsize=plt.figaspect(.5))\n",
        "\n",
        "ax1 = plt.subplot(121)\n",
        "sn.kdeplot(train.age, shade=True, ax=ax1)\n",
        "plt.xlabel('distribution of age of user')\n",
        "plt.title(\"PDF\")\n",
        "\n",
        "ax2 = plt.subplot(122)\n",
        "sn.kdeplot(train.age, shade=True, cumulative=True,ax=ax2)\n",
        "plt.xlabel('distribution of age of user')\n",
        "plt.title('CDF')\n",
        "\n",
        "plt.show()"
      ],
      "metadata": {
        "colab": {
          "base_uri": "https://localhost:8080/",
          "height": 295
        },
        "id": "h9EMCvqvGmEr",
        "outputId": "26631631-7f18-4a5f-a4a3-f026262bf681"
      },
      "execution_count": 10,
      "outputs": [
        {
          "output_type": "display_data",
          "data": {
            "image/png": "[encoded data removed]",
            "text/plain": [
              "<Figure size 576x288 with 2 Axes>"
            ]
          },
          "metadata": {
            "needs_background": "light"
          }
        }
      ]
    },
    {
      "cell_type": "markdown",
      "source": [
        "90% of the viewers are of age less than 40"
      ],
      "metadata": {
        "id": "zjqMWGBhIYgB"
      }
    },
    {
      "cell_type": "code",
      "source": [
        "sn.countplot(train.gender)\n",
        "plt.show()"
      ],
      "metadata": {
        "colab": {
          "base_uri": "https://localhost:8080/",
          "height": 334
        },
        "id": "Sk1PN0xUHz-u",
        "outputId": "c814ef0d-d267-4896-e6fd-25a676531763"
      },
      "execution_count": 11,
      "outputs": [
        {
          "output_type": "stream",
          "name": "stderr",
          "text": [
            "/usr/local/lib/python3.7/dist-packages/seaborn/_decorators.py:43: FutureWarning: Pass the following variable as a keyword arg: x. From version 0.12, the only valid positional argument will be `data`, and passing other arguments without an explicit keyword will result in an error or misinterpretation.\n",
            "  FutureWarning\n"
          ]
        },
        {
          "output_type": "display_data",
          "data": {
            "image/png": "[encoded data removed]",
            "text/plain": [
              "<Figure size 432x288 with 1 Axes>"
            ]
          },
          "metadata": {
            "needs_background": "light"
          }
        }
      ]
    },
    {
      "cell_type": "markdown",
      "source": [
        "There are more male users than female "
      ],
      "metadata": {
        "id": "200on6h3JtwO"
      }
    },
    {
      "cell_type": "code",
      "source": [
        "sn.countplot(train.profession)\n",
        "plt.show()"
      ],
      "metadata": {
        "colab": {
          "base_uri": "https://localhost:8080/",
          "height": 334
        },
        "id": "5Ki5brtiIxt9",
        "outputId": "64452f8f-8e91-463d-d11f-d1a88e9967fb"
      },
      "execution_count": 12,
      "outputs": [
        {
          "output_type": "stream",
          "name": "stderr",
          "text": [
            "/usr/local/lib/python3.7/dist-packages/seaborn/_decorators.py:43: FutureWarning: Pass the following variable as a keyword arg: x. From version 0.12, the only valid positional argument will be `data`, and passing other arguments without an explicit keyword will result in an error or misinterpretation.\n",
            "  FutureWarning\n"
          ]
        },
        {
          "output_type": "display_data",
          "data": {
            "image/png": "[encoded data removed]",
            "text/plain": [
              "<Figure size 432x288 with 1 Axes>"
            ]
          },
          "metadata": {
            "needs_background": "light"
          }
        }
      ]
    },
    {
      "cell_type": "markdown",
      "source": [
        "There are more students as the distribution of age is also skewed towards right"
      ],
      "metadata": {
        "id": "G4ma2SDkKG8e"
      }
    },
    {
      "cell_type": "code",
      "source": [
        "print('Global average engagement_score = {}'.format(train.engagement_score.mean()))"
      ],
      "metadata": {
        "colab": {
          "base_uri": "https://localhost:8080/"
        },
        "id": "tohEqyHELalm",
        "outputId": "4196897e-4ecb-4e73-9541-4b71ca7c4b1e"
      },
      "execution_count": 13,
      "outputs": [
        {
          "output_type": "stream",
          "name": "stdout",
          "text": [
            "Global average engagement_score = 3.487797011110046\n"
          ]
        }
      ]
    },
    {
      "cell_type": "code",
      "source": [
        "print('videos present in test not in train = {}'.format(len(set(test.video_id) - set(train.video_id))))"
      ],
      "metadata": {
        "colab": {
          "base_uri": "https://localhost:8080/"
        },
        "id": "fl-FVarwRMdd",
        "outputId": "22da829f-bcdb-4868-93c0-9b2c749a431e"
      },
      "execution_count": 14,
      "outputs": [
        {
          "output_type": "stream",
          "name": "stdout",
          "text": [
            "videos present in test not in train = 0\n"
          ]
        }
      ]
    },
    {
      "cell_type": "code",
      "source": [
        "print('users present in test not in train = {}'.format(len(set(test.user_id) - set(train.user_id))))"
      ],
      "metadata": {
        "colab": {
          "base_uri": "https://localhost:8080/"
        },
        "id": "4grX_FVGRJso",
        "outputId": "369f0670-f8f7-45c4-f008-26e39502ffa6"
      },
      "execution_count": 15,
      "outputs": [
        {
          "output_type": "stream",
          "name": "stdout",
          "text": [
            "users present in test not in train = 0\n"
          ]
        }
      ]
    },
    {
      "cell_type": "markdown",
      "source": [
        "##Feature Engineering"
      ],
      "metadata": {
        "id": "HPt6gJ1zKwf3"
      }
    },
    {
      "cell_type": "code",
      "source": [
        "#splitting the data and removing id column\n",
        "train, validation = train_test_split(train, test_size=0.2, random_state=12)\n",
        "train = train.reset_index()\n",
        "validation = validation.reset_index()\n",
        "train = train.drop(['row_id'], axis=1)\n",
        "test = test.drop(['row_id'], axis=1)\n",
        "validation = validation.drop(['row_id'], axis=1)"
      ],
      "metadata": {
        "id": "NeDrntVZKkTm"
      },
      "execution_count": 16,
      "outputs": []
    },
    {
      "cell_type": "code",
      "source": [
        "#avg score of every user and video\n",
        "user_avarage_rating = train.groupby('user_id')['engagement_score'].mean().to_dict()\n",
        "video_average_rating = train.groupby('video_id')['engagement_score'].mean().to_dict()"
      ],
      "metadata": {
        "id": "apLBFbIaLCzT"
      },
      "execution_count": 17,
      "outputs": []
    },
    {
      "cell_type": "code",
      "source": [
        "for user in validation.user_id:\n",
        "  if user not in user_avarage_rating.keys():\n",
        "    user_avarage_rating[user] = train.engagement_score.mean()\n",
        "    \n",
        "for video in validation.video_id:\n",
        "  if video not in video_average_rating.keys():\n",
        "    video_average_rating[user] = train.engagement_score.mean()"
      ],
      "metadata": {
        "id": "jwaP6l51LoAT"
      },
      "execution_count": 18,
      "outputs": []
    },
    {
      "cell_type": "code",
      "source": [
        "def get_user_video_matrix(data):\n",
        "  matrix = np.zeros((27734, 175))\n",
        "\n",
        "  for i in range(len(data)):\n",
        "    matrix[data.user_id[i] - 1][data.video_id[i] - 1] = data.engagement_score[i]\n",
        "\n",
        "  return csr_matrix(matrix)\n",
        "\n",
        "train_matrix = get_user_video_matrix(train)"
      ],
      "metadata": {
        "id": "uGvI3EMBNf81"
      },
      "execution_count": 19,
      "outputs": []
    },
    {
      "cell_type": "code",
      "source": [
        "#get cosine similarity between users to get similar users and get cosine similarity between videos to get similar videos\n",
        "usersim = cosine_similarity(train_matrix)\n",
        "vidsim = cosine_similarity(train_matrix.T)"
      ],
      "metadata": {
        "id": "t2H24BnpMT2b"
      },
      "execution_count": 20,
      "outputs": []
    },
    {
      "cell_type": "code",
      "source": [
        "def get_features(usersim = usersim, vidsim = vidsim, df = train, train_matrix = train_matrix, user_avarage_rating = user_avarage_rating, video_average_rating = video_average_rating):\n",
        "  output = []\n",
        "  for i in tqdm(range(len(df))):\n",
        "    o = []\n",
        "    uid = df.user_id[i]\n",
        "    vid = df.video_id[i]\n",
        "\n",
        "    #--------------------- Ratings of \"video\" by similar users of \"user\" and the similarity ---------------------\n",
        "\n",
        "    top_sim_users = usersim[uid-1].argsort()[::-1][1:]\n",
        "    top_scores = train_matrix[top_sim_users, vid-1].toarray().ravel()\n",
        "    top_sim = usersim[uid-1][top_sim_users]\n",
        "    top_sim_users_score = list(top_scores[top_scores != 0][:5])\n",
        "    top_sim_users_similarity = list(top_sim[top_scores != 0][:5])\n",
        "    top_sim_users_score.extend([user_avarage_rating[uid]]*(5 - len(top_sim_users_score)))\n",
        "    top_sim_users_similarity.extend([1.0]*(5 - len(top_sim_users_score)))\n",
        "    o.extend(top_sim_users_score)\n",
        "    o.extend(top_sim_users_similarity)\n",
        "\n",
        "    #--------------------- Ratings by \"user\"  to similar movies of \"video\" and the similarity ---------------------\n",
        "\n",
        "    top_sim_vids = vidsim[vid-1].argsort()[::-1][1:]\n",
        "    top_scores = train_matrix[uid-1, top_sim_vids].toarray().ravel()\n",
        "    top_sim = vidsim[vid-1][top_sim_vids]\n",
        "    top_sim_vids_score = list(top_scores[top_scores != 0][:5])\n",
        "    top_sim_vids_similarity = list(top_sim[top_scores != 0][:5])\n",
        "    top_sim_vids_score.extend([video_average_rating[vid]]*(5 - len(top_sim_vids_score)))\n",
        "    top_sim_vids_similarity.extend([1.0]*(5 - len(top_sim_vids_score)))\n",
        "    o.extend(top_sim_vids_score)\n",
        "    o.extend(top_sim_vids_similarity)\n",
        "\n",
        "    output.append(o)\n",
        "\n",
        "  return output"
      ],
      "metadata": {
        "id": "KrENiAYWMwJO"
      },
      "execution_count": 21,
      "outputs": []
    },
    {
      "cell_type": "code",
      "source": [
        "#Get the newly created features\n",
        "features = get_features()\n",
        "testfeatures = get_features(df=test)\n",
        "validfeatures = get_features(df=validation)"
      ],
      "metadata": {
        "colab": {
          "base_uri": "https://localhost:8080/"
        },
        "id": "VqZPCYdUNxbz",
        "outputId": "55eb2b77-e040-4ffd-e432-32b9d625f978"
      },
      "execution_count": 23,
      "outputs": [
        {
          "output_type": "stream",
          "name": "stderr",
          "text": [
            "100%|██████████| 71357/71357 [04:16<00:00, 277.84it/s]\n",
            "100%|██████████| 11121/11121 [00:39<00:00, 280.83it/s]\n",
            "100%|██████████| 17840/17840 [01:02<00:00, 285.22it/s]\n"
          ]
        }
      ]
    },
    {
      "cell_type": "code",
      "source": [
        "similars = pd.DataFrame(features, columns = ['sur1', 'sur2', 'sur3', 'sur4', 'sur5','sus1', 'sus2', 'sus3', 'sus4', 'sus5','smr1', 'smr2', 'smr3', 'smr4', 'smr5','sms1', 'sms2', 'sms3', 'sms4', 'sms5'])\n",
        "testsimilars = pd.DataFrame(testfeatures, columns = ['sur1', 'sur2', 'sur3', 'sur4', 'sur5','sus1', 'sus2', 'sus3', 'sus4', 'sus5','smr1', 'smr2', 'smr3', 'smr4', 'smr5','sms1', 'sms2', 'sms3', 'sms4', 'sms5'])\n",
        "validationsimilars = pd.DataFrame(validfeatures, columns = ['sur1', 'sur2', 'sur3', 'sur4', 'sur5','sus1', 'sus2', 'sus3', 'sus4', 'sus5','smr1', 'smr2', 'smr3', 'smr4', 'smr5','sms1', 'sms2', 'sms3', 'sms4', 'sms5'])"
      ],
      "metadata": {
        "id": "0L2d2KjcN1fs"
      },
      "execution_count": 24,
      "outputs": []
    },
    {
      "cell_type": "code",
      "source": [
        "similarstrain = pd.concat([train,similars], axis=1 )\n",
        "similarstest = pd.concat([test,testsimilars], axis=1 )\n",
        "similarsvalidation = pd.concat([validation,validationsimilars], axis=1 )"
      ],
      "metadata": {
        "id": "dn1nlBB3N8yc"
      },
      "execution_count": 25,
      "outputs": []
    },
    {
      "cell_type": "code",
      "source": [
        "similarstrain.gender[similarstrain.gender != 'Male'] = 1\n",
        "similarstrain.gender[similarstrain.gender == 'Male'] = 0\n",
        "\n",
        "similarstrain.profession[similarstrain.profession == 'Student'] = 1\n",
        "similarstrain.profession[similarstrain.profession == 'Other'] = 0\n",
        "similarstrain.profession[similarstrain.profession == 'Working Professional'] = -1\n",
        "\n",
        "similarstrain.gender = similarstrain.gender.astype('int')\n",
        "similarstrain.profession = similarstrain.profession.astype('int')\n",
        "\n",
        "\n",
        "similarstest.gender[similarstest.gender != 'Male'] = 1\n",
        "similarstest.gender[similarstest.gender == 'Male'] = 0\n",
        "\n",
        "similarstest.profession[similarstest.profession == 'Student'] = 1\n",
        "similarstest.profession[similarstest.profession == 'Other'] = 0\n",
        "similarstest.profession[similarstest.profession == 'Working Professional'] = -1\n",
        "\n",
        "similarstest.gender = similarstest.gender.astype('int')\n",
        "similarstest.profession = similarstest.profession.astype('int')\n",
        "\n",
        "\n",
        "similarsvalidation.gender[similarsvalidation.gender != 'Male'] = 1\n",
        "similarsvalidation.gender[similarsvalidation.gender == 'Male'] = 0\n",
        "\n",
        "similarsvalidation.profession[similarsvalidation.profession == 'Student'] = 1\n",
        "similarsvalidation.profession[similarsvalidation.profession == 'Other'] = 0\n",
        "similarsvalidation.profession[similarsvalidation.profession == 'Working Professional'] = -1\n",
        "\n",
        "similarsvalidation.gender = similarsvalidation.gender.astype('int')\n",
        "similarsvalidation.profession = similarsvalidation.profession.astype('int')"
      ],
      "metadata": {
        "colab": {
          "base_uri": "https://localhost:8080/"
        },
        "id": "ac3vGOZWN9dL",
        "outputId": "0ab34036-569e-42ae-e783-29efe7928c30"
      },
      "execution_count": 26,
      "outputs": [
        {
          "output_type": "stream",
          "name": "stderr",
          "text": [
            "/usr/local/lib/python3.7/dist-packages/ipykernel_launcher.py:1: SettingWithCopyWarning: \n",
            "A value is trying to be set on a copy of a slice from a DataFrame\n",
            "\n",
            "See the caveats in the documentation: https://pandas.pydata.org/pandas-docs/stable/user_guide/indexing.html#returning-a-view-versus-a-copy\n",
            "  \"\"\"Entry point for launching an IPython kernel.\n",
            "/usr/local/lib/python3.7/dist-packages/ipykernel_launcher.py:2: SettingWithCopyWarning: \n",
            "A value is trying to be set on a copy of a slice from a DataFrame\n",
            "\n",
            "See the caveats in the documentation: https://pandas.pydata.org/pandas-docs/stable/user_guide/indexing.html#returning-a-view-versus-a-copy\n",
            "  \n",
            "/usr/local/lib/python3.7/dist-packages/ipykernel_launcher.py:4: SettingWithCopyWarning: \n",
            "A value is trying to be set on a copy of a slice from a DataFrame\n",
            "\n",
            "See the caveats in the documentation: https://pandas.pydata.org/pandas-docs/stable/user_guide/indexing.html#returning-a-view-versus-a-copy\n",
            "  after removing the cwd from sys.path.\n",
            "/usr/local/lib/python3.7/dist-packages/ipykernel_launcher.py:5: SettingWithCopyWarning: \n",
            "A value is trying to be set on a copy of a slice from a DataFrame\n",
            "\n",
            "See the caveats in the documentation: https://pandas.pydata.org/pandas-docs/stable/user_guide/indexing.html#returning-a-view-versus-a-copy\n",
            "  \"\"\"\n",
            "/usr/local/lib/python3.7/dist-packages/ipykernel_launcher.py:6: SettingWithCopyWarning: \n",
            "A value is trying to be set on a copy of a slice from a DataFrame\n",
            "\n",
            "See the caveats in the documentation: https://pandas.pydata.org/pandas-docs/stable/user_guide/indexing.html#returning-a-view-versus-a-copy\n",
            "  \n",
            "/usr/local/lib/python3.7/dist-packages/ipykernel_launcher.py:12: SettingWithCopyWarning: \n",
            "A value is trying to be set on a copy of a slice from a DataFrame\n",
            "\n",
            "See the caveats in the documentation: https://pandas.pydata.org/pandas-docs/stable/user_guide/indexing.html#returning-a-view-versus-a-copy\n",
            "  if sys.path[0] == '':\n",
            "/usr/local/lib/python3.7/dist-packages/ipykernel_launcher.py:13: SettingWithCopyWarning: \n",
            "A value is trying to be set on a copy of a slice from a DataFrame\n",
            "\n",
            "See the caveats in the documentation: https://pandas.pydata.org/pandas-docs/stable/user_guide/indexing.html#returning-a-view-versus-a-copy\n",
            "  del sys.path[0]\n",
            "/usr/local/lib/python3.7/dist-packages/ipykernel_launcher.py:15: SettingWithCopyWarning: \n",
            "A value is trying to be set on a copy of a slice from a DataFrame\n",
            "\n",
            "See the caveats in the documentation: https://pandas.pydata.org/pandas-docs/stable/user_guide/indexing.html#returning-a-view-versus-a-copy\n",
            "  from ipykernel import kernelapp as app\n",
            "/usr/local/lib/python3.7/dist-packages/ipykernel_launcher.py:16: SettingWithCopyWarning: \n",
            "A value is trying to be set on a copy of a slice from a DataFrame\n",
            "\n",
            "See the caveats in the documentation: https://pandas.pydata.org/pandas-docs/stable/user_guide/indexing.html#returning-a-view-versus-a-copy\n",
            "  app.launch_new_instance()\n",
            "/usr/local/lib/python3.7/dist-packages/ipykernel_launcher.py:17: SettingWithCopyWarning: \n",
            "A value is trying to be set on a copy of a slice from a DataFrame\n",
            "\n",
            "See the caveats in the documentation: https://pandas.pydata.org/pandas-docs/stable/user_guide/indexing.html#returning-a-view-versus-a-copy\n",
            "/usr/local/lib/python3.7/dist-packages/ipykernel_launcher.py:23: SettingWithCopyWarning: \n",
            "A value is trying to be set on a copy of a slice from a DataFrame\n",
            "\n",
            "See the caveats in the documentation: https://pandas.pydata.org/pandas-docs/stable/user_guide/indexing.html#returning-a-view-versus-a-copy\n",
            "/usr/local/lib/python3.7/dist-packages/ipykernel_launcher.py:24: SettingWithCopyWarning: \n",
            "A value is trying to be set on a copy of a slice from a DataFrame\n",
            "\n",
            "See the caveats in the documentation: https://pandas.pydata.org/pandas-docs/stable/user_guide/indexing.html#returning-a-view-versus-a-copy\n",
            "/usr/local/lib/python3.7/dist-packages/ipykernel_launcher.py:26: SettingWithCopyWarning: \n",
            "A value is trying to be set on a copy of a slice from a DataFrame\n",
            "\n",
            "See the caveats in the documentation: https://pandas.pydata.org/pandas-docs/stable/user_guide/indexing.html#returning-a-view-versus-a-copy\n",
            "/usr/local/lib/python3.7/dist-packages/ipykernel_launcher.py:27: SettingWithCopyWarning: \n",
            "A value is trying to be set on a copy of a slice from a DataFrame\n",
            "\n",
            "See the caveats in the documentation: https://pandas.pydata.org/pandas-docs/stable/user_guide/indexing.html#returning-a-view-versus-a-copy\n",
            "/usr/local/lib/python3.7/dist-packages/ipykernel_launcher.py:28: SettingWithCopyWarning: \n",
            "A value is trying to be set on a copy of a slice from a DataFrame\n",
            "\n",
            "See the caveats in the documentation: https://pandas.pydata.org/pandas-docs/stable/user_guide/indexing.html#returning-a-view-versus-a-copy\n"
          ]
        }
      ]
    },
    {
      "cell_type": "code",
      "source": [
        "similarstrain['user_avarage_rating'] = [user_avarage_rating[i] for i in similarstrain.user_id]\n",
        "similarstest['user_avarage_rating'] = [user_avarage_rating[i] for i in similarstest.user_id]\n",
        "similarsvalidation['user_avarage_rating'] = [user_avarage_rating[i] for i in similarsvalidation.user_id]\n",
        "\n",
        "similarstrain['video_average_rating'] = [video_average_rating[i] for i in similarstrain.video_id]\n",
        "similarstest['video_average_rating'] = [video_average_rating[i] for i in similarstest.video_id]\n",
        "similarsvalidation['video_average_rating'] = [video_average_rating[i] for i in similarsvalidation.video_id]\n",
        "\n",
        "similarstrain['global_avg'] = train.engagement_score.mean()\n",
        "similarstest['global_avg'] = train.engagement_score.mean()\n",
        "similarsvalidation['global_avg'] = train.engagement_score.mean()"
      ],
      "metadata": {
        "id": "zGZDkYHFOAqj"
      },
      "execution_count": 27,
      "outputs": []
    },
    {
      "cell_type": "code",
      "source": [
        "similarstrain = similarstrain.drop(['index'], axis=1)\n",
        "similarsvalidation = similarsvalidation.drop(['index'], axis=1)"
      ],
      "metadata": {
        "id": "MxYgBqsiODQj"
      },
      "execution_count": 28,
      "outputs": []
    },
    {
      "cell_type": "code",
      "source": [
        "similarstrain.head()"
      ],
      "metadata": {
        "colab": {
          "base_uri": "https://localhost:8080/",
          "height": 270
        },
        "id": "HRxVpE3mRy6z",
        "outputId": "e3c46ea9-b397-48c5-9dd4-fb7326e96692"
      },
      "execution_count": 29,
      "outputs": [
        {
          "output_type": "execute_result",
          "data": {
            "text/html": [
              "\n",
              "  <div id=\"df-654a97a5-ac47-46a9-a240-bd096700f36c\">\n",
              "    <div class=\"colab-df-container\">\n",
              "      <div>\n",
              "<style scoped>\n",
              "    .dataframe tbody tr th:only-of-type {\n",
              "        vertical-align: middle;\n",
              "    }\n",
              "\n",
              "    .dataframe tbody tr th {\n",
              "        vertical-align: top;\n",
              "    }\n",
              "\n",
              "    .dataframe thead th {\n",
              "        text-align: right;\n",
              "    }\n",
              "</style>\n",
              "<table border=\"1\" class=\"dataframe\">\n",
              "  <thead>\n",
              "    <tr style=\"text-align: right;\">\n",
              "      <th></th>\n",
              "      <th>user_id</th>\n",
              "      <th>category_id</th>\n",
              "      <th>video_id</th>\n",
              "      <th>age</th>\n",
              "      <th>gender</th>\n",
              "      <th>profession</th>\n",
              "      <th>followers</th>\n",
              "      <th>views</th>\n",
              "      <th>engagement_score</th>\n",
              "      <th>sur1</th>\n",
              "      <th>sur2</th>\n",
              "      <th>sur3</th>\n",
              "      <th>sur4</th>\n",
              "      <th>sur5</th>\n",
              "      <th>sus1</th>\n",
              "      <th>sus2</th>\n",
              "      <th>sus3</th>\n",
              "      <th>sus4</th>\n",
              "      <th>sus5</th>\n",
              "      <th>smr1</th>\n",
              "      <th>smr2</th>\n",
              "      <th>smr3</th>\n",
              "      <th>smr4</th>\n",
              "      <th>smr5</th>\n",
              "      <th>sms1</th>\n",
              "      <th>sms2</th>\n",
              "      <th>sms3</th>\n",
              "      <th>sms4</th>\n",
              "      <th>sms5</th>\n",
              "      <th>user_avarage_rating</th>\n",
              "      <th>video_average_rating</th>\n",
              "      <th>global_avg</th>\n",
              "    </tr>\n",
              "  </thead>\n",
              "  <tbody>\n",
              "    <tr>\n",
              "      <th>0</th>\n",
              "      <td>26674</td>\n",
              "      <td>16</td>\n",
              "      <td>98</td>\n",
              "      <td>22</td>\n",
              "      <td>1</td>\n",
              "      <td>1</td>\n",
              "      <td>270</td>\n",
              "      <td>462</td>\n",
              "      <td>4.62</td>\n",
              "      <td>4.29</td>\n",
              "      <td>3.04</td>\n",
              "      <td>4.35</td>\n",
              "      <td>4.06</td>\n",
              "      <td>3.87</td>\n",
              "      <td>0.915674</td>\n",
              "      <td>0.866824</td>\n",
              "      <td>0.866075</td>\n",
              "      <td>0.858844</td>\n",
              "      <td>0.833997</td>\n",
              "      <td>2.480000</td>\n",
              "      <td>2.480000</td>\n",
              "      <td>2.600000</td>\n",
              "      <td>3.627566</td>\n",
              "      <td>3.627566</td>\n",
              "      <td>0.246691</td>\n",
              "      <td>0.097994</td>\n",
              "      <td>0.077599</td>\n",
              "      <td>NaN</td>\n",
              "      <td>NaN</td>\n",
              "      <td>3.045000</td>\n",
              "      <td>3.627566</td>\n",
              "      <td>3.488828</td>\n",
              "    </tr>\n",
              "    <tr>\n",
              "      <th>1</th>\n",
              "      <td>11605</td>\n",
              "      <td>11</td>\n",
              "      <td>41</td>\n",
              "      <td>27</td>\n",
              "      <td>1</td>\n",
              "      <td>0</td>\n",
              "      <td>250</td>\n",
              "      <td>180</td>\n",
              "      <td>2.30</td>\n",
              "      <td>2.16</td>\n",
              "      <td>3.23</td>\n",
              "      <td>3.19</td>\n",
              "      <td>2.48</td>\n",
              "      <td>2.70</td>\n",
              "      <td>0.997630</td>\n",
              "      <td>0.995723</td>\n",
              "      <td>0.941269</td>\n",
              "      <td>0.885563</td>\n",
              "      <td>0.878779</td>\n",
              "      <td>2.480000</td>\n",
              "      <td>2.560000</td>\n",
              "      <td>3.407703</td>\n",
              "      <td>3.407703</td>\n",
              "      <td>3.407703</td>\n",
              "      <td>0.230163</td>\n",
              "      <td>0.189935</td>\n",
              "      <td>NaN</td>\n",
              "      <td>NaN</td>\n",
              "      <td>NaN</td>\n",
              "      <td>2.446667</td>\n",
              "      <td>3.407703</td>\n",
              "      <td>3.488828</td>\n",
              "    </tr>\n",
              "    <tr>\n",
              "      <th>2</th>\n",
              "      <td>10185</td>\n",
              "      <td>33</td>\n",
              "      <td>93</td>\n",
              "      <td>32</td>\n",
              "      <td>1</td>\n",
              "      <td>0</td>\n",
              "      <td>270</td>\n",
              "      <td>862</td>\n",
              "      <td>3.43</td>\n",
              "      <td>4.14</td>\n",
              "      <td>3.13</td>\n",
              "      <td>3.87</td>\n",
              "      <td>3.40</td>\n",
              "      <td>2.80</td>\n",
              "      <td>0.999943</td>\n",
              "      <td>0.999859</td>\n",
              "      <td>0.998993</td>\n",
              "      <td>0.998748</td>\n",
              "      <td>0.998097</td>\n",
              "      <td>3.370000</td>\n",
              "      <td>3.430000</td>\n",
              "      <td>3.326000</td>\n",
              "      <td>3.326000</td>\n",
              "      <td>3.326000</td>\n",
              "      <td>0.065946</td>\n",
              "      <td>0.054328</td>\n",
              "      <td>NaN</td>\n",
              "      <td>NaN</td>\n",
              "      <td>NaN</td>\n",
              "      <td>3.410000</td>\n",
              "      <td>3.326000</td>\n",
              "      <td>3.488828</td>\n",
              "    </tr>\n",
              "    <tr>\n",
              "      <th>3</th>\n",
              "      <td>4967</td>\n",
              "      <td>10</td>\n",
              "      <td>21</td>\n",
              "      <td>17</td>\n",
              "      <td>1</td>\n",
              "      <td>1</td>\n",
              "      <td>210</td>\n",
              "      <td>44</td>\n",
              "      <td>2.60</td>\n",
              "      <td>2.80</td>\n",
              "      <td>2.56</td>\n",
              "      <td>2.70</td>\n",
              "      <td>3.87</td>\n",
              "      <td>3.76</td>\n",
              "      <td>0.999917</td>\n",
              "      <td>0.999910</td>\n",
              "      <td>0.991614</td>\n",
              "      <td>0.979073</td>\n",
              "      <td>0.975528</td>\n",
              "      <td>4.350000</td>\n",
              "      <td>2.350000</td>\n",
              "      <td>3.601879</td>\n",
              "      <td>3.601879</td>\n",
              "      <td>3.601879</td>\n",
              "      <td>0.372037</td>\n",
              "      <td>0.161640</td>\n",
              "      <td>NaN</td>\n",
              "      <td>NaN</td>\n",
              "      <td>NaN</td>\n",
              "      <td>3.100000</td>\n",
              "      <td>3.601879</td>\n",
              "      <td>3.488828</td>\n",
              "    </tr>\n",
              "    <tr>\n",
              "      <th>4</th>\n",
              "      <td>10329</td>\n",
              "      <td>41</td>\n",
              "      <td>130</td>\n",
              "      <td>33</td>\n",
              "      <td>0</td>\n",
              "      <td>-1</td>\n",
              "      <td>240</td>\n",
              "      <td>72</td>\n",
              "      <td>3.63</td>\n",
              "      <td>3.58</td>\n",
              "      <td>4.02</td>\n",
              "      <td>3.14</td>\n",
              "      <td>2.64</td>\n",
              "      <td>4.31</td>\n",
              "      <td>1.000000</td>\n",
              "      <td>1.000000</td>\n",
              "      <td>1.000000</td>\n",
              "      <td>1.000000</td>\n",
              "      <td>1.000000</td>\n",
              "      <td>3.641773</td>\n",
              "      <td>3.641773</td>\n",
              "      <td>3.641773</td>\n",
              "      <td>3.641773</td>\n",
              "      <td>3.641773</td>\n",
              "      <td>NaN</td>\n",
              "      <td>NaN</td>\n",
              "      <td>NaN</td>\n",
              "      <td>NaN</td>\n",
              "      <td>NaN</td>\n",
              "      <td>3.630000</td>\n",
              "      <td>3.641773</td>\n",
              "      <td>3.488828</td>\n",
              "    </tr>\n",
              "  </tbody>\n",
              "</table>\n",
              "</div>\n",
              "      <button class=\"colab-df-convert\" onclick=\"convertToInteractive('df-654a97a5-ac47-46a9-a240-bd096700f36c')\"\n",
              "              title=\"Convert this dataframe to an interactive table.\"\n",
              "              style=\"display:none;\">\n",
              "        \n",
              "  <svg xmlns=\"http://www.w3.org/2000/svg\" height=\"24px\"viewBox=\"0 0 24 24\"\n",
              "       width=\"24px\">\n",
              "    <path d=\"M0 0h24v24H0V0z\" fill=\"none\"/>\n",
              "    <path d=\"M18.56 5.44l.94 2.06.94-2.06 2.06-.94-2.06-.94-.94-2.06-.94 2.06-2.06.94zm-11 1L8.5 8.5l.94-2.06 2.06-.94-2.06-.94L8.5 2.5l-.94 2.06-2.06.94zm10 10l.94 2.06.94-2.06 2.06-.94-2.06-.94-.94-2.06-.94 2.06-2.06.94z\"/><path d=\"M17.41 7.96l-1.37-1.37c-.4-.4-.92-.59-1.43-.59-.52 0-1.04.2-1.43.59L10.3 9.45l-7.72 7.72c-.78.78-.78 2.05 0 2.83L4 21.41c.39.39.9.59 1.41.59.51 0 1.02-.2 1.41-.59l7.78-7.78 2.81-2.81c.8-.78.8-2.07 0-2.86zM5.41 20L4 18.59l7.72-7.72 1.47 1.35L5.41 20z\"/>\n",
              "  </svg>\n",
              "      </button>\n",
              "      \n",
              "  <style>\n",
              "    .colab-df-container {\n",
              "      display:flex;\n",
              "      flex-wrap:wrap;\n",
              "      gap: 12px;\n",
              "    }\n",
              "\n",
              "    .colab-df-convert {\n",
              "      background-color: #E8F0FE;\n",
              "      border: none;\n",
              "      border-radius: 50%;\n",
              "      cursor: pointer;\n",
              "      display: none;\n",
              "      fill: #1967D2;\n",
              "      height: 32px;\n",
              "      padding: 0 0 0 0;\n",
              "      width: 32px;\n",
              "    }\n",
              "\n",
              "    .colab-df-convert:hover {\n",
              "      background-color: #E2EBFA;\n",
              "      box-shadow: 0px 1px 2px rgba(60, 64, 67, 0.3), 0px 1px 3px 1px rgba(60, 64, 67, 0.15);\n",
              "      fill: #174EA6;\n",
              "    }\n",
              "\n",
              "    [theme=dark] .colab-df-convert {\n",
              "      background-color: #3B4455;\n",
              "      fill: #D2E3FC;\n",
              "    }\n",
              "\n",
              "    [theme=dark] .colab-df-convert:hover {\n",
              "      background-color: #434B5C;\n",
              "      box-shadow: 0px 1px 3px 1px rgba(0, 0, 0, 0.15);\n",
              "      filter: drop-shadow(0px 1px 2px rgba(0, 0, 0, 0.3));\n",
              "      fill: #FFFFFF;\n",
              "    }\n",
              "  </style>\n",
              "\n",
              "      <script>\n",
              "        const buttonEl =\n",
              "          document.querySelector('#df-654a97a5-ac47-46a9-a240-bd096700f36c button.colab-df-convert');\n",
              "        buttonEl.style.display =\n",
              "          google.colab.kernel.accessAllowed ? 'block' : 'none';\n",
              "\n",
              "        async function convertToInteractive(key) {\n",
              "          const element = document.querySelector('#df-654a97a5-ac47-46a9-a240-bd096700f36c');\n",
              "          const dataTable =\n",
              "            await google.colab.kernel.invokeFunction('convertToInteractive',\n",
              "                                                     [key], {});\n",
              "          if (!dataTable) return;\n",
              "\n",
              "          const docLinkHtml = 'Like what you see? Visit the ' +\n",
              "            '<a target=\"_blank\" href=https://colab.research.google.com/notebooks/data_table.ipynb>data table notebook</a>'\n",
              "            + ' to learn more about interactive tables.';\n",
              "          element.innerHTML = '';\n",
              "          dataTable['output_type'] = 'display_data';\n",
              "          await google.colab.output.renderOutput(dataTable, element);\n",
              "          const docLink = document.createElement('div');\n",
              "          docLink.innerHTML = docLinkHtml;\n",
              "          element.appendChild(docLink);\n",
              "        }\n",
              "      </script>\n",
              "    </div>\n",
              "  </div>\n",
              "  "
            ],
            "text/plain": [
              "   user_id  category_id  ...  video_average_rating  global_avg\n",
              "0    26674           16  ...              3.627566    3.488828\n",
              "1    11605           11  ...              3.407703    3.488828\n",
              "2    10185           33  ...              3.326000    3.488828\n",
              "3     4967           10  ...              3.601879    3.488828\n",
              "4    10329           41  ...              3.641773    3.488828\n",
              "\n",
              "[5 rows x 32 columns]"
            ]
          },
          "metadata": {},
          "execution_count": 29
        }
      ]
    },
    {
      "cell_type": "markdown",
      "source": [
        "Training Model"
      ],
      "metadata": {
        "id": "2TR76NquOO2L"
      }
    },
    {
      "cell_type": "code",
      "source": [
        "xtrain,xtest = similarstrain.drop(['engagement_score'], axis=1) , similarsvalidation.drop(['engagement_score'], axis=1)\n",
        "ytrain,ytest = similarstrain.engagement_score, similarsvalidation.engagement_score"
      ],
      "metadata": {
        "id": "NWcyTTvgOFQT"
      },
      "execution_count": 30,
      "outputs": []
    },
    {
      "cell_type": "code",
      "source": [
        "# These parameters are found with the help of hyperparameter optimizing library optuna\n",
        "lgbmparams = {'iterations': 200, 'reg_alpha': 1.9160236698846917, 'reg_lambda': 0.009038089209425539, 'colsample_bytree': 0.7, 'subsample': 0.4, 'learning_rate': 0.014, 'max_depth': 10, 'num_leaves': 22, 'min_child_samples': 8, 'min_data_per_groups': 15}\n",
        "catboostparams = {'iterations': 400, 'learning_rate': 0.017245230233596254, 'depth': 8, 'l2_leaf_reg': 863.4098881182281, 'colsample_bylevel': 0.09993102325290629, 'boosting_type': 'Plain', 'bootstrap_type': 'MVS'}"
      ],
      "metadata": {
        "id": "WIkqtssuOY2H"
      },
      "execution_count": 31,
      "outputs": []
    },
    {
      "cell_type": "code",
      "source": [
        "lb = lgb.LGBMRegressor(**lgbmparams,  random_state=12, verbose=0)\n",
        "lb.fit(xtrain, ytrain)\n",
        "\n",
        "cb = catboost.CatBoostRegressor(**catboostparams, random_state=12, verbose=0,)\n",
        "cb.fit(xtrain, ytrain)"
      ],
      "metadata": {
        "colab": {
          "base_uri": "https://localhost:8080/"
        },
        "id": "X8Bm2tEoOM27",
        "outputId": "e3429109-1f91-431a-ff1f-24c43d3bd57f"
      },
      "execution_count": 32,
      "outputs": [
        {
          "output_type": "execute_result",
          "data": {
            "text/plain": [
              "<catboost.core.CatBoostRegressor at 0x7f20e8589fd0>"
            ]
          },
          "metadata": {},
          "execution_count": 32
        }
      ]
    },
    {
      "cell_type": "code",
      "source": [
        "my_submission = pd.DataFrame({'row_id': submission.row_id, 'engagement_score': (lb.predict(similarstest)+cb.predict(similarstest))/2})\n",
        "my_submission.to_csv('submission.csv', index=False)"
      ],
      "metadata": {
        "id": "gPWhcCIsOhxt"
      },
      "execution_count": 33,
      "outputs": []
    },
    {
      "cell_type": "markdown",
      "source": [
        "This submission had got me r2 score of 0.298 on public test set"
      ],
      "metadata": {
        "id": "Cg-1eeVdO_sA"
      }
    },
    {
      "cell_type": "markdown",
      "source": [
        "## Trying MCM method to calculate engagement score"
      ],
      "metadata": {
        "id": "73mgSlu4Ptfb"
      }
    },
    {
      "cell_type": "code",
      "source": [
        "#Creating the dataset to feed into svdpp algorithm\n",
        "reader = Reader(rating_scale=(0, 5))\n",
        "train_data = Dataset.load_from_df(train[['user_id', 'video_id', 'engagement_score']], reader)\n",
        "trainset = train_data.build_full_trainset() "
      ],
      "metadata": {
        "id": "zTs0RPriQR10"
      },
      "execution_count": 34,
      "outputs": []
    },
    {
      "cell_type": "code",
      "source": [
        "validationset = list(zip(validation.user_id.values, validation.video_id.values, validation.engagement_score.values))"
      ],
      "metadata": {
        "id": "Pyvzx1IIQUzz"
      },
      "execution_count": 35,
      "outputs": []
    },
    {
      "cell_type": "code",
      "source": [
        "# These parameters are found with the help of hyperparameter optimizing library optuna\n",
        "svdppparameters = {'lr_bi': 0.00979687062134178,\n",
        " 'lr_bu': 0.04072947707311226,\n",
        " 'lr_pu': 0.05837529374774398,\n",
        " 'lr_qi': 0.08106330574427646,\n",
        " 'reg_bi': 0.00018355232360930474,\n",
        " 'reg_bu': 0.000980078300980912,\n",
        " 'reg_pu': 0.0001003873956431923,\n",
        " 'reg_qi': 0.08115660409360344}"
      ],
      "metadata": {
        "id": "SaMkE4q1Qm3L"
      },
      "execution_count": 36,
      "outputs": []
    },
    {
      "cell_type": "code",
      "source": [
        "# You can read about the svd++ algorithm here https://surprise.readthedocs.io/en/stable/matrix_factorization.html\n",
        "svdpp = SVDpp(**svdppparameters,n_factors=100, random_state=12, verbose=0)\n",
        "svdpp.fit(trainset)"
      ],
      "metadata": {
        "colab": {
          "base_uri": "https://localhost:8080/"
        },
        "id": "AeaEfpI5QfiS",
        "outputId": "874470aa-31ec-4b7e-ebc4-45988c943cc4"
      },
      "execution_count": 37,
      "outputs": [
        {
          "output_type": "execute_result",
          "data": {
            "text/plain": [
              "<surprise.prediction_algorithms.matrix_factorization.SVDpp at 0x7f20e84b04d0>"
            ]
          },
          "metadata": {},
          "execution_count": 37
        }
      ]
    },
    {
      "cell_type": "code",
      "source": [
        "testset = list(zip(test.user_id.values, test.video_id.values, test.age.values))\n",
        "test_preds = svdpp.test(testset)\n",
        "pred = np.array([pred.est for pred in test_preds])"
      ],
      "metadata": {
        "id": "R8_7SLquQpa6"
      },
      "execution_count": 38,
      "outputs": []
    },
    {
      "cell_type": "code",
      "source": [
        "my_submission = pd.DataFrame({'row_id': submission.row_id, 'engagement_score': pred})\n",
        "my_submission.to_csv('submission.csv', index=False)"
      ],
      "metadata": {
        "id": "DYPzuAA9Qwko"
      },
      "execution_count": 39,
      "outputs": []
    },
    {
      "cell_type": "markdown",
      "source": [
        "This submission got me 0.49568953569085 r2score on public test data"
      ],
      "metadata": {
        "id": "wLV849ZwSzYJ"
      }
    },
    {
      "cell_type": "code",
      "source": [
        ""
      ],
      "metadata": {
        "id": "NqR9-BQPQ4Ra"
      },
      "execution_count": null,
      "outputs": []
    }
  ]
}